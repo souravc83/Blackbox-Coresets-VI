{
 "cells": [
  {
   "cell_type": "code",
   "execution_count": 1,
   "id": "31750948-f8ca-4b74-b15c-2da74c5102d7",
   "metadata": {},
   "outputs": [
    {
     "name": "stdout",
     "output_type": "stream",
     "text": [
      "/home/studio-lab-user/Blackbox-Coresets-VI\n"
     ]
    }
   ],
   "source": [
    "!pwd"
   ]
  },
  {
   "cell_type": "code",
   "execution_count": null,
   "id": "aca4e270-d1d9-41d1-bb88-d4984e793e16",
   "metadata": {},
   "outputs": [],
   "source": []
  },
  {
   "cell_type": "code",
   "execution_count": null,
   "id": "249e008e-76d9-4b7d-8d4f-9c6103c0da6d",
   "metadata": {},
   "outputs": [],
   "source": []
  },
  {
   "cell_type": "code",
   "execution_count": 3,
   "id": "b9c0fcec-d78b-4871-8e02-cebff14f9151",
   "metadata": {},
   "outputs": [],
   "source": []
  },
  {
   "cell_type": "code",
   "execution_count": null,
   "id": "0093f694-af26-4e3d-a338-266a7afc08ee",
   "metadata": {},
   "outputs": [],
   "source": []
  },
  {
   "cell_type": "code",
   "execution_count": 2,
   "id": "2abbd394-1168-47cc-94bd-701371e6e5ff",
   "metadata": {},
   "outputs": [],
   "source": [
    "# TODO: move to requirements.txt, otherwise we need to do pip install .\n",
    "# for every change we make to the code"
   ]
  },
  {
   "cell_type": "code",
   "execution_count": 3,
   "id": "1407ad70-2a5a-4190-84e2-570eb0be9e95",
   "metadata": {},
   "outputs": [],
   "source": [
    "import os \n",
    "import sys\n",
    "sys.path.append(\"/home/studio-lab-user/Blackbox-Coresets-VI\")"
   ]
  },
  {
   "cell_type": "code",
   "execution_count": null,
   "id": "e18255c1-8969-4a22-b300-0e28ecd5d053",
   "metadata": {},
   "outputs": [],
   "source": []
  },
  {
   "cell_type": "code",
   "execution_count": 16,
   "id": "4b45e80e-4ac0-428c-8c15-17a0f6b7fef7",
   "metadata": {},
   "outputs": [
    {
     "name": "stdout",
     "output_type": "stream",
     "text": [
      "\n",
      "Reading/Generating the dataset ADULT\n",
      "Details about dataset: Total Datapoints: 30162, Dimensions: 11, num classes: 2\n",
      "\n",
      "Bayesian logistic regression experiment.\n",
      "Inference via RANDOM on adult data over 1 trial.\n",
      "\n",
      "\n",
      "\n",
      "\n",
      "\n",
      "Running random\n",
      "\n",
      "Trial #0\n",
      "Unconstrained data access\n",
      "  0%|                                                    | 0/50 [00:00<?, ?it/s]predictive accuracy: 66.47%\n",
      "  2%|▉                                           | 1/50 [00:01<01:19,  1.62s/it]predictive accuracy: 74.85%\n",
      " 22%|█████████▍                                 | 11/50 [00:04<00:13,  2.99it/s]predictive accuracy: 69.89%\n",
      " 42%|██████████████████                         | 21/50 [00:06<00:09,  3.22it/s]predictive accuracy: 73.52%\n",
      " 62%|██████████████████████████▋                | 31/50 [00:09<00:05,  3.40it/s]predictive accuracy: 71.76%\n",
      "100%|███████████████████████████████████████████| 50/50 [00:12<00:00,  4.00it/s]\n",
      "Trial completed!\n",
      "\n"
     ]
    }
   ],
   "source": [
    "!python3 psvi_experiments.py --datasets \"adult\" \\\n",
    "--architecture \"logistic_regression\" --n_hidden 100 --methods \"random\"\\\n",
    "--data_folder \"/home/studio-lab-user/all_data/vi_data\" \\\n",
    "--results_folder \"/home/studio-lab-user/all_data/vi_result\" \\\n",
    "--log_every 10 --num_epochs 50 --mc_samples 256 --lr0net 1e-3\\\n",
    "--coreset_sizes 40 80 --init_at \"subsample\" --num_trials 1 "
   ]
  },
  {
   "cell_type": "code",
   "execution_count": 7,
   "id": "1ae4691d-a9ee-48b3-b188-ff4e617dceec",
   "metadata": {},
   "outputs": [
    {
     "name": "stdout",
     "output_type": "stream",
     "text": [
      "\n",
      "Reading/Generating the dataset WEBSPAM\n",
      "X is either low-dimensional or not very sparse, so converting to a numpy array\n",
      "X is either low-dimensional or not very sparse, so converting to a numpy array\n",
      "Details about dataset: Total Datapoints: 126185, Dimensions: 128, num classes: 2\n",
      "\n",
      "Bayesian logistic regression experiment.\n",
      "Inference via KMEANS on webspam data over 1 trial.\n",
      "\n",
      "\n",
      "\n",
      "\n",
      "\n",
      "Running kmeans\n",
      "\n",
      "Trial #0\n",
      "Unconstrained data access\n",
      "  0%|                                                    | 0/50 [00:00<?, ?it/s]predictive accuracy: 39.31%\n",
      "  2%|▉                                           | 1/50 [00:04<03:23,  4.15s/it]predictive accuracy: 62.23%\n",
      " 22%|█████████▍                                 | 11/50 [00:09<00:29,  1.33it/s]predictive accuracy: 66.72%\n",
      " 42%|██████████████████                         | 21/50 [00:15<00:19,  1.48it/s]predictive accuracy: 72.84%\n",
      " 62%|██████████████████████████▋                | 31/50 [00:23<00:14,  1.34it/s]predictive accuracy: 76.89%\n",
      "100%|███████████████████████████████████████████| 50/50 [00:31<00:00,  1.56it/s]\n",
      "Trial completed!\n",
      "\n"
     ]
    }
   ],
   "source": [
    "!python3 psvi_experiments.py --datasets \"webspam\" \\\n",
    "--architecture \"logistic_regression\" --n_hidden 100 --methods \"kmeans\"\\\n",
    "--data_folder \"/home/studio-lab-user/all_data/vi_data\" \\\n",
    "--results_folder \"/home/studio-lab-user/all_data/vi_result\" \\\n",
    "--log_every 10 --num_epochs 50 --mc_samples 256 --inner_it 1000 --lr0net 1e-2\\\n",
    "--save_new_folder\\\n",
    "--coreset_sizes 40 80 --init_at \"subsample\" --num_trials 1 "
   ]
  },
  {
   "cell_type": "code",
   "execution_count": 10,
   "id": "c842dd6f-8495-4ed5-860c-2fb17235c751",
   "metadata": {},
   "outputs": [
    {
     "name": "stdout",
     "output_type": "stream",
     "text": [
      "\n",
      "Reading/Generating the dataset ADULT\n",
      "Details about dataset: Total Datapoints: 30162, Dimensions: 11, num classes: 2\n",
      "\n",
      "Bayesian logistic regression experiment.\n",
      "Inference via KMEANS on adult data over 1 trial.\n",
      "\n",
      "\n",
      "\n",
      "\n",
      "\n",
      "Running kmeans\n",
      "\n",
      "Trial #0\n",
      "Unconstrained data access\n",
      "  0%|                                                    | 0/50 [00:00<?, ?it/s]predictive accuracy: 51.81%\n",
      "  2%|▉                                           | 1/50 [00:02<01:51,  2.27s/it]predictive accuracy: 58.98%\n",
      " 22%|█████████▍                                 | 11/50 [00:04<00:13,  2.96it/s]predictive accuracy: 53.19%\n",
      " 42%|██████████████████                         | 21/50 [00:06<00:08,  3.38it/s]predictive accuracy: 65.59%\n",
      " 62%|██████████████████████████▋                | 31/50 [00:09<00:04,  3.84it/s]predictive accuracy: 76.90%\n",
      "100%|███████████████████████████████████████████| 50/50 [00:11<00:00,  4.44it/s]\n",
      "Trial completed!\n",
      "\n"
     ]
    }
   ],
   "source": [
    "!python3 psvi_experiments.py --datasets \"adult\" \\\n",
    "--architecture \"logistic_regression\" --n_hidden 100 --methods \"kmeans\"\\\n",
    "--data_folder \"/home/studio-lab-user/all_data/vi_data\" \\\n",
    "--results_folder \"/home/studio-lab-user/all_data/vi_result\" \\\n",
    "--log_every 10 --num_epochs 50 --mc_samples 256 --inner_it 1000 --lr0net 1e-2\\\n",
    "--save_new_folder\\\n",
    "--coreset_sizes 40 80 --init_at \"subsample\" --num_trials 1 "
   ]
  },
  {
   "cell_type": "code",
   "execution_count": null,
   "id": "f7c42fda-1d45-4784-b3ac-0c4a6a556e21",
   "metadata": {},
   "outputs": [
    {
     "name": "stdout",
     "output_type": "stream",
     "text": [
      "\n",
      "Reading/Generating the dataset WEBSPAM\n",
      "X is either low-dimensional or not very sparse, so converting to a numpy array\n",
      "X is either low-dimensional or not very sparse, so converting to a numpy array\n",
      "Details about dataset: Total Datapoints: 126185, Dimensions: 128, num classes: 2\n",
      "\n",
      "Bayesian logistic regression experiment.\n",
      "Inference via SPARSEVI on webspam data over 1 trial.\n",
      "\n",
      "\n",
      "\n",
      "\n",
      "\n",
      "Running sparsevi\n",
      "\n",
      "Trial #0\n",
      "Unconstrained data access\n",
      "  0%|                                                    | 0/50 [00:00<?, ?it/s]predictive accuracy: 39.31%\n",
      " 20%|████████                                | 10/50 [23:47<1:36:00, 144.01s/it]predictive accuracy: 66.55%\n",
      " 40%|████████████████                        | 20/50 [48:11<1:12:55, 145.86s/it]predictive accuracy: 77.86%\n",
      " 60%|████████████████████████                | 30/50 [1:12:27<48:32, 145.62s/it]predictive accuracy: 77.88%\n",
      " 80%|████████████████████████████████        | 40/50 [1:36:46<24:19, 145.99s/it]predictive accuracy: 77.42%\n",
      "100%|████████████████████████████████████████| 50/50 [2:01:07<00:00, 145.36s/it]\n",
      "Trial completed!\n",
      "\n"
     ]
    }
   ],
   "source": [
    "!python3 psvi_experiments.py --datasets \"webspam\" \\\n",
    "--architecture \"logistic_regression\" --n_hidden 100 --methods \"sparsevi\"\\\n",
    "--data_folder \"/home/studio-lab-user/all_data/vi_data\" \\\n",
    "--results_folder \"/home/studio-lab-user/all_data/vi_result\" \\\n",
    "--log_every 10 --num_epochs 50 --mc_samples 256 --inner_it 200 \\\n",
    "--outer_it 400 --lr0net 1e-2 --save_new_folder\\\n",
    "--coreset_sizes 40 80 --init_at \"random\" --num_trials 1 "
   ]
  },
  {
   "cell_type": "code",
   "execution_count": 11,
   "id": "cc38d93a-3012-49a2-a1ca-49dfef6f7e5f",
   "metadata": {},
   "outputs": [
    {
     "name": "stdout",
     "output_type": "stream",
     "text": [
      "\n",
      "Reading/Generating the dataset WEBSPAM\n",
      "X is either low-dimensional or not very sparse, so converting to a numpy array\n",
      "X is either low-dimensional or not very sparse, so converting to a numpy array\n",
      "Details about dataset: Total Datapoints: 126185, Dimensions: 128, num classes: 2\n",
      "\n",
      "Bayesian logistic regression experiment.\n",
      "Inference via MFVI_SUBSET on webspam data over 1 trial.\n",
      "\n",
      "\n",
      "\n",
      "\n",
      "\n",
      "Running mfvi_subset\n",
      "\n",
      "Trial #0\n",
      "Coreset/Subset with 100 datapoints\n",
      "  0%|                                                 | 0/10002 [00:00<?, ?it/s]predictive accuracy: 39.17%\n",
      " 10%|███▊                                   | 992/10002 [00:12<01:45, 85.55it/s]predictive accuracy: 78.17%\n",
      " 20%|███████▌                              | 1992/10002 [00:24<01:30, 88.62it/s]predictive accuracy: 81.16%\n",
      " 30%|███████████▍                          | 2995/10002 [00:36<01:22, 85.31it/s]predictive accuracy: 82.76%\n",
      " 40%|███████████████▏                      | 3992/10002 [00:48<01:07, 88.57it/s]predictive accuracy: 83.53%\n",
      " 50%|██████████████████▉                   | 4998/10002 [01:00<01:05, 76.71it/s]predictive accuracy: 84.00%\n",
      " 60%|██████████████████████▊               | 5991/10002 [01:12<00:44, 90.11it/s]predictive accuracy: 84.09%\n",
      " 70%|██████████████████████████▌           | 6999/10002 [01:24<00:35, 84.38it/s]predictive accuracy: 84.29%\n",
      " 80%|██████████████████████████████▎       | 7993/10002 [01:36<00:23, 86.13it/s]predictive accuracy: 84.61%\n",
      " 90%|██████████████████████████████████▏   | 8997/10002 [01:48<00:12, 83.42it/s]predictive accuracy: 85.02%\n",
      "100%|█████████████████████████████████████▉| 9999/10002 [02:00<00:00, 87.57it/s]predictive accuracy: 85.58%\n",
      "100%|█████████████████████████████████████| 10002/10002 [02:00<00:00, 82.85it/s]\n",
      "Trial completed!\n",
      "\n"
     ]
    }
   ],
   "source": [
    "!python3 psvi_experiments.py --datasets \"webspam\" \\\n",
    "--architecture \"logistic_regression\" --n_hidden 100 --methods \"mfvi_subset\"\\\n",
    "--data_folder \"/home/studio-lab-user/all_data/vi_data\" \\\n",
    "--results_folder \"/home/studio-lab-user/all_data/vi_result\" \\\n",
    "--log_every 1000 --num_epochs 5001 --mc_samples 64 --inner_it 500 --lr0net 1e-4 \\\n",
    "--init_sd 1e-3 --data_minibatch 256\\\n",
    "--coreset_sizes 100 --init_at \"subsample\" --num_trials 1 "
   ]
  },
  {
   "cell_type": "code",
   "execution_count": 3,
   "id": "1379fef5-739a-46a9-ac3d-09f6e5c2d0f6",
   "metadata": {},
   "outputs": [
    {
     "name": "stdout",
     "output_type": "stream",
     "text": [
      "\n",
      "Reading/Generating the dataset MNIST\n",
      "Details about dataset: Total Datapoints: 60000, Dimensions: 28, num classes: 10\n",
      "\n",
      "Bayesian neural network experiment.\n",
      "Inference via PSVI_FIXED_U on MNIST data over 1 trial.\n",
      "\n",
      "\n",
      "\n",
      "\n",
      "\n",
      "Running psvi_fixed_u\n",
      "\n",
      "Trial #0\n",
      "Coreset/Subset with 30 datapoints\n",
      "SETTING UP THE MODEL \n",
      "\n",
      "\n",
      "  0%|                                                    | 0/50 [00:00<?, ?it/s]\n",
      "predictive accuracy: 9.38%\n",
      "/home/studio-lab-user/.conda/envs/default/lib/python3.9/site-packages/torch/optim/lr_scheduler.py:131: UserWarning: Detected call of `lr_scheduler.step()` before `optimizer.step()`. In PyTorch 1.1.0 and later, you should call them in the opposite order: `optimizer.step()` before `lr_scheduler.step()`.  Failure to do this will result in PyTorch skipping the first value of the learning rate schedule. See more details at https://pytorch.org/docs/stable/optim.html#how-to-adjust-learning-rate\n",
      "  warnings.warn(\"Detected call of `lr_scheduler.step()` before `optimizer.step()`. \"\n",
      " 20%|████████▌                                  | 10/50 [02:06<06:43, 10.08s/it]\n",
      "predictive accuracy: 66.35%\n",
      " 40%|█████████████████▏                         | 20/50 [04:07<05:08, 10.29s/it]\n",
      "predictive accuracy: 64.90%\n",
      " 60%|█████████████████████████▊                 | 30/50 [06:16<03:37, 10.87s/it]\n",
      "predictive accuracy: 63.81%\n",
      " 80%|██████████████████████████████████▍        | 40/50 [08:30<01:58, 11.81s/it]\n",
      "predictive accuracy: 61.59%\n",
      "100%|███████████████████████████████████████████| 50/50 [10:39<00:00, 12.80s/it]\n",
      "Trial completed!\n",
      "\n",
      "Traceback (most recent call last):\n",
      "  File \"/home/studio-lab-user/Blackbox-Coresets-VI/psvi_experiments.py\", line 589, in <module>\n",
      "    (experiment_driver(\n",
      "  File \"/home/studio-lab-user/Blackbox-Coresets-VI/psvi_experiments.py\", line 462, in experiment_driver\n",
      "    return write_to_files(results, method_args[\"fnm\"])\n",
      "  File \"/home/studio-lab-user/Blackbox-Coresets-VI/psvi_experiments.py\", line 583, in write_to_files\n",
      "    json.dump(results, fp)\n",
      "  File \"/home/studio-lab-user/.conda/envs/default/lib/python3.9/json/__init__.py\", line 179, in dump\n",
      "    for chunk in iterable:\n",
      "  File \"/home/studio-lab-user/.conda/envs/default/lib/python3.9/json/encoder.py\", line 431, in _iterencode\n",
      "    yield from _iterencode_dict(o, _current_indent_level)\n",
      "  File \"/home/studio-lab-user/.conda/envs/default/lib/python3.9/json/encoder.py\", line 405, in _iterencode_dict\n",
      "    yield from chunks\n",
      "  File \"/home/studio-lab-user/.conda/envs/default/lib/python3.9/json/encoder.py\", line 405, in _iterencode_dict\n",
      "    yield from chunks\n",
      "  File \"/home/studio-lab-user/.conda/envs/default/lib/python3.9/json/encoder.py\", line 405, in _iterencode_dict\n",
      "    yield from chunks\n",
      "  [Previous line repeated 2 more times]\n",
      "  File \"/home/studio-lab-user/.conda/envs/default/lib/python3.9/json/encoder.py\", line 325, in _iterencode_list\n",
      "    yield from chunks\n",
      "  File \"/home/studio-lab-user/.conda/envs/default/lib/python3.9/json/encoder.py\", line 438, in _iterencode\n",
      "    o = _default(o)\n",
      "  File \"/home/studio-lab-user/.conda/envs/default/lib/python3.9/json/encoder.py\", line 179, in default\n",
      "    raise TypeError(f'Object of type {o.__class__.__name__} '\n",
      "TypeError: Object of type ndarray is not JSON serializable\n"
     ]
    }
   ],
   "source": [
    "!python3 psvi_experiments.py --datasets \"MNIST\" \\\n",
    "--architecture \"lenet\" --n_hidden 100 --methods \"psvi_fixed_u\"\\\n",
    "--data_folder \"/home/studio-lab-user/all_data/vi_data\" \\\n",
    "--results_folder \"/home/studio-lab-user/all_data/vi_result\" \\\n",
    "--log_every 10 --num_epochs 50 --mc_samples 10 --inner_it 10 --lr0net 1e-3\\\n",
    "--coreset_sizes 30 --init_at \"subsample\" --num_trials 1 \n",
    "\n"
   ]
  },
  {
   "cell_type": "code",
   "execution_count": 10,
   "id": "0a4fd8a1-26f6-4aaf-82c3-8833d57cd15b",
   "metadata": {},
   "outputs": [
    {
     "name": "stdout",
     "output_type": "stream",
     "text": [
      "\n",
      "Reading/Generating the dataset WEBSPAM\n",
      "X is either low-dimensional or not very sparse, so converting to a numpy array\n",
      "X is either low-dimensional or not very sparse, so converting to a numpy array\n",
      "Details about dataset: Total Datapoints: 126185, Dimensions: 128, num classes: 2\n",
      "\n",
      "Bayesian logistic regression experiment.\n",
      "Inference via PSVI_FIXED_U on webspam data over 1 trial.\n",
      "\n",
      "\n",
      "\n",
      "\n",
      "\n",
      "Running psvi_fixed_u\n",
      "\n",
      "Trial #0\n",
      "Coreset/Subset with 30 datapoints\n",
      "SETTING UP THE MODEL \n",
      "\n",
      "\n",
      "  0%|                                                    | 0/50 [00:00<?, ?it/s]\n",
      "predictive accuracy: 39.18%\n",
      "/home/studio-lab-user/.conda/envs/default/lib/python3.9/site-packages/torch/optim/lr_scheduler.py:131: UserWarning: Detected call of `lr_scheduler.step()` before `optimizer.step()`. In PyTorch 1.1.0 and later, you should call them in the opposite order: `optimizer.step()` before `lr_scheduler.step()`.  Failure to do this will result in PyTorch skipping the first value of the learning rate schedule. See more details at https://pytorch.org/docs/stable/optim.html#how-to-adjust-learning-rate\n",
      "  warnings.warn(\"Detected call of `lr_scheduler.step()` before `optimizer.step()`. \"\n",
      "  8%|███▌                                        | 4/50 [01:45<19:44, 25.75s/it]/home/studio-lab-user/.conda/envs/default/lib/python3.9/site-packages/torch/autograd/__init__.py:173: UserWarning: Error detected in SoftplusBackwardBackward0. Traceback of forward call that caused the error:\n",
      "  File \"/home/studio-lab-user/Blackbox-Coresets-VI/psvi_experiments.py\", line 589, in <module>\n",
      "    (experiment_driver(\n",
      "  File \"/home/studio-lab-user/Blackbox-Coresets-VI/psvi_experiments.py\", line 407, in experiment_driver\n",
      "    results[dnm][nm_alg][ps][t] = inf_alg(\n",
      "  File \"/home/studio-lab-user/Blackbox-Coresets-VI/psvi_experiments.py\", line 333, in <lambda>\n",
      "    lambda *args, **kwargs: PSVIFixedU(*args, **kwargs).run_psvi(*args, **kwargs)\n",
      "  File \"/home/studio-lab-user/Blackbox-Coresets-VI/psvi/inference/psvi_classes.py\", line 735, in run_psvi\n",
      "    psvi_step(xbatch, ybatch)\n",
      "  File \"/home/studio-lab-user/Blackbox-Coresets-VI/psvi/inference/psvi_classes.py\", line 1314, in nested_step\n",
      "    diffopt.step(mfvi_loss)\n",
      "  File \"/home/studio-lab-user/Blackbox-Coresets-VI/psvi/robust_higher/optim.py\", line 224, in step\n",
      "    all_grads = _torch.autograd.grad(\n",
      "  File \"/home/studio-lab-user/.conda/envs/default/lib/python3.9/site-packages/torch/autograd/__init__.py\", line 276, in grad\n",
      "    return Variable._execution_engine.run_backward(  # Calls into the C++ engine to run the backward pass\n",
      " (Triggered internally at  ../torch/csrc/autograd/python_anomaly_mode.cpp:104.)\n",
      "  Variable._execution_engine.run_backward(  # Calls into the C++ engine to run the backward pass\n",
      "/home/studio-lab-user/.conda/envs/default/lib/python3.9/site-packages/torch/autograd/__init__.py:173: UserWarning: \n",
      "\n",
      "Previous calculation was induced by SoftplusBackward0. Traceback of forward call that induced the previous calculation:\n",
      "  File \"/home/studio-lab-user/Blackbox-Coresets-VI/psvi_experiments.py\", line 589, in <module>\n",
      "    (experiment_driver(\n",
      "  File \"/home/studio-lab-user/Blackbox-Coresets-VI/psvi_experiments.py\", line 407, in experiment_driver\n",
      "    results[dnm][nm_alg][ps][t] = inf_alg(\n",
      "  File \"/home/studio-lab-user/Blackbox-Coresets-VI/psvi_experiments.py\", line 333, in <lambda>\n",
      "    lambda *args, **kwargs: PSVIFixedU(*args, **kwargs).run_psvi(*args, **kwargs)\n",
      "  File \"/home/studio-lab-user/Blackbox-Coresets-VI/psvi/inference/psvi_classes.py\", line 735, in run_psvi\n",
      "    psvi_step(xbatch, ybatch)\n",
      "  File \"/home/studio-lab-user/Blackbox-Coresets-VI/psvi/inference/psvi_classes.py\", line 1310, in nested_step\n",
      "    mfvi_loss = self.inner_elbo(model=fmodel)\n",
      "  File \"/home/studio-lab-user/Blackbox-Coresets-VI/psvi/inference/psvi_classes.py\", line 306, in inner_elbo\n",
      "    logits = model(self.u) if not hyperopt else model(self.u, params=params)\n",
      "  File \"/home/studio-lab-user/.conda/envs/default/lib/python3.9/site-packages/torch/nn/modules/module.py\", line 1130, in _call_impl\n",
      "    return forward_call(*input, **kwargs)\n",
      "  File \"/home/studio-lab-user/Blackbox-Coresets-VI/psvi/robust_higher/patch.py\", line 460, in _patched_forward\n",
      "    output = self.boxed_forward(*args, **kwargs)\n",
      "  File \"/home/studio-lab-user/Blackbox-Coresets-VI/psvi/robust_higher/patch.py\", line 388, in patched_forward\n",
      "    return true_forward(self, *args, **kwargs)\n",
      "  File \"/home/studio-lab-user/.conda/envs/default/lib/python3.9/site-packages/torch/nn/modules/container.py\", line 139, in forward\n",
      "    input = module(input)\n",
      "  File \"/home/studio-lab-user/.conda/envs/default/lib/python3.9/site-packages/torch/nn/modules/module.py\", line 1130, in _call_impl\n",
      "    return forward_call(*input, **kwargs)\n",
      "  File \"/home/studio-lab-user/Blackbox-Coresets-VI/psvi/robust_higher/patch.py\", line 388, in patched_forward\n",
      "    return true_forward(self, *args, **kwargs)\n",
      "  File \"/home/studio-lab-user/Blackbox-Coresets-VI/psvi/models/neural_net.py\", line 177, in forward\n",
      "    self._cached_weight, self._cached_bias = self.rsample()\n",
      "  File \"/home/studio-lab-user/Blackbox-Coresets-VI/psvi/models/neural_net.py\", line 155, in rsample\n",
      "    weight = self.weight_dist.rsample(self.weight_batch_shape)\n",
      "  File \"/home/studio-lab-user/Blackbox-Coresets-VI/psvi/models/neural_net.py\", line 119, in weight_dist\n",
      "    dist.Normal(self.weight, self.weight_sd), self.weight.ndim\n",
      "  File \"/home/studio-lab-user/Blackbox-Coresets-VI/psvi/models/neural_net.py\", line 130, in weight_sd\n",
      "    return F.softplus(self._weight_sd)\n",
      " (Triggered internally at  ../torch/csrc/autograd/python_anomaly_mode.cpp:109.)\n",
      "  Variable._execution_engine.run_backward(  # Calls into the C++ engine to run the backward pass\n",
      "  8%|███▌                                        | 4/50 [02:05<24:06, 31.44s/it]\n",
      "Traceback (most recent call last):\n",
      "  File \"/home/studio-lab-user/Blackbox-Coresets-VI/psvi_experiments.py\", line 589, in <module>\n",
      "    (experiment_driver(\n",
      "  File \"/home/studio-lab-user/Blackbox-Coresets-VI/psvi_experiments.py\", line 407, in experiment_driver\n",
      "    results[dnm][nm_alg][ps][t] = inf_alg(\n",
      "  File \"/home/studio-lab-user/Blackbox-Coresets-VI/psvi_experiments.py\", line 333, in <lambda>\n",
      "    lambda *args, **kwargs: PSVIFixedU(*args, **kwargs).run_psvi(*args, **kwargs)\n",
      "  File \"/home/studio-lab-user/Blackbox-Coresets-VI/psvi/inference/psvi_classes.py\", line 735, in run_psvi\n",
      "    psvi_step(xbatch, ybatch)\n",
      "  File \"/home/studio-lab-user/Blackbox-Coresets-VI/psvi/inference/psvi_classes.py\", line 1319, in nested_step\n",
      "    psvi_loss.backward()\n",
      "  File \"/home/studio-lab-user/.conda/envs/default/lib/python3.9/site-packages/torch/_tensor.py\", line 396, in backward\n",
      "    torch.autograd.backward(self, gradient, retain_graph, create_graph, inputs=inputs)\n",
      "  File \"/home/studio-lab-user/.conda/envs/default/lib/python3.9/site-packages/torch/autograd/__init__.py\", line 173, in backward\n",
      "    Variable._execution_engine.run_backward(  # Calls into the C++ engine to run the backward pass\n",
      "RuntimeError: Function 'SoftplusBackwardBackward0' returned nan values in its 1th output.\n"
     ]
    }
   ],
   "source": [
    "!python3 psvi_experiments.py --datasets \"webspam\" \\\n",
    "--architecture \"logistic_regression\" --n_hidden 100 --methods \"psvi_fixed_u\"\\\n",
    "--data_folder \"/home/studio-lab-user/all_data/vi_data\" \\\n",
    "--results_folder \"/home/studio-lab-user/all_data/vi_result\" \\\n",
    "--log_every 10 --num_epochs 50 --mc_samples 256 --inner_it 500 --lr0net 1e-2\\\n",
    "--coreset_sizes 30 --init_at \"subsample\" --num_trials 1 \n",
    "\n"
   ]
  },
  {
   "cell_type": "code",
   "execution_count": 7,
   "id": "0156ba23-b2aa-4edf-91c2-37af274cb7ff",
   "metadata": {},
   "outputs": [
    {
     "name": "stdout",
     "output_type": "stream",
     "text": [
      "\n",
      "Reading/Generating the dataset WEBSPAM\n",
      "X is either low-dimensional or not very sparse, so converting to a numpy array\n",
      "X is either low-dimensional or not very sparse, so converting to a numpy array\n",
      "Details about dataset: Total Datapoints: 126185, Dimensions: 128, num classes: 2\n",
      "\n",
      "Bayesian logistic regression experiment.\n",
      "Inference via MFVI_SUBSET on webspam data over 1 trial.\n",
      "\n",
      "\n",
      "\n",
      "\n",
      "\n",
      "Running mfvi_subset\n",
      "\n",
      "Trial #0\n",
      "Coreset/Subset with 40 datapoints\n",
      "  0%|                                                   | 0/100 [00:00<?, ?it/s]predictive accuracy: 39.09%\n",
      " 10%|████▏                                     | 10/100 [00:01<00:07, 12.13it/s]predictive accuracy: 70.34%\n",
      " 18%|███████▌                                  | 18/100 [00:02<00:10,  8.11it/s]predictive accuracy: 68.44%\n",
      " 27%|███████████▎                              | 27/100 [00:04<00:09,  7.87it/s]predictive accuracy: 69.40%\n",
      " 40%|████████████████▊                         | 40/100 [00:06<00:06,  9.96it/s]predictive accuracy: 70.92%\n",
      " 50%|█████████████████████                     | 50/100 [00:07<00:05,  8.81it/s]predictive accuracy: 71.41%\n",
      " 57%|███████████████████████▉                  | 57/100 [00:08<00:05,  7.58it/s]predictive accuracy: 71.38%\n",
      " 70%|█████████████████████████████▍            | 70/100 [00:10<00:02, 10.36it/s]predictive accuracy: 71.88%\n",
      " 79%|█████████████████████████████████▏        | 79/100 [00:11<00:02,  8.88it/s]predictive accuracy: 72.50%\n",
      " 88%|████████████████████████████████████▉     | 88/100 [00:13<00:01,  8.42it/s]predictive accuracy: 73.10%\n",
      "100%|█████████████████████████████████████████| 100/100 [00:15<00:00,  6.59it/s]\n",
      "Trial completed!\n",
      "\n"
     ]
    }
   ],
   "source": [
    "!python3 psvi_experiments.py --datasets \"webspam\" \\\n",
    "--architecture \"logistic_regression\" --n_hidden 100 --methods \"mfvi_subset\"\\\n",
    "--data_folder \"/home/studio-lab-user/all_data/vi_data\" \\\n",
    "--results_folder \"/home/studio-lab-user/all_data/vi_result\" \\\n",
    "--log_every 10 --num_epochs 50 --mc_samples 256 --inner_it 20 --lr0net 1e-3\\\n",
    "--coreset_sizes 40 --init_at \"subsample\" --num_trials 1 \n"
   ]
  },
  {
   "cell_type": "code",
   "execution_count": null,
   "id": "198447f7-82e6-4633-96fa-01518887362f",
   "metadata": {},
   "outputs": [
    {
     "name": "stdout",
     "output_type": "stream",
     "text": [
      "\n",
      "Reading/Generating the dataset WEBSPAM\n",
      "X is either low-dimensional or not very sparse, so converting to a numpy array\n",
      "X is either low-dimensional or not very sparse, so converting to a numpy array\n",
      "Details about dataset: Total Datapoints: 126185, Dimensions: 128, num classes: 2\n",
      "\n",
      "Bayesian neural network experiment.\n",
      "Inference via MFVI_SELECTION on webspam data over 1 trial.\n",
      "\n",
      "\n",
      "\n",
      "\n",
      "\n",
      "Running mfvi_selection\n",
      "\n",
      "Trial #0\n",
      "Coreset/Subset with 40 datapoints\n",
      "  0%|                                                   | 0/200 [00:00<?, ?it/s]predictive accuracy: 60.68%\n",
      "  5%|██                                        | 10/200 [00:25<02:12,  1.43it/s]predictive accuracy: 66.65%\n",
      " 10%|████▏                                     | 20/200 [00:49<02:06,  1.42it/s]predictive accuracy: 72.96%\n",
      " 15%|██████▎                                   | 30/200 [01:12<01:55,  1.48it/s]predictive accuracy: 76.32%\n",
      " 20%|████████▍                                 | 40/200 [01:36<01:51,  1.43it/s]predictive accuracy: 78.60%\n",
      " 25%|██████████▌                               | 50/200 [02:00<01:42,  1.47it/s]predictive accuracy: 80.70%\n",
      " 30%|████████████▌                             | 60/200 [02:23<01:33,  1.49it/s]"
     ]
    }
   ],
   "source": [
    "\n",
    "!python3 psvi_experiments.py --datasets \"webspam\" \\\n",
    "--architecture \"fn\" --n_hidden 100 --methods \"mfvi_selection\"\\\n",
    "--data_folder \"/home/studio-lab-user/all_data/vi_data\" \\\n",
    "--results_folder \"/home/studio-lab-user/all_data/vi_result\" \\\n",
    "--log_every 10 --num_epochs 20 --mc_samples 256 --inner_it 20 --lr0net 1e-3\\\n",
    "--coreset_sizes 40 --init_at \"subsample\" --num_trials 1 \n"
   ]
  },
  {
   "cell_type": "code",
   "execution_count": null,
   "id": "fbb57283-91d7-41c7-83ff-124976e28e7e",
   "metadata": {},
   "outputs": [],
   "source": []
  },
  {
   "cell_type": "code",
   "execution_count": null,
   "id": "430d7be8-cad8-440c-b3c3-f3627f994275",
   "metadata": {},
   "outputs": [],
   "source": []
  },
  {
   "cell_type": "code",
   "execution_count": 8,
   "id": "174dde74-0949-4ca8-8858-fece845837ce",
   "metadata": {},
   "outputs": [],
   "source": [
    "method_args = {\n",
    "    'data_folder': '../all_data/vi_data',\n",
    "    'test_ratio': 0.2\n",
    "}"
   ]
  },
  {
   "cell_type": "code",
   "execution_count": 9,
   "id": "3c9916ed-73a3-41c8-88e5-3257ac03fc06",
   "metadata": {},
   "outputs": [
    {
     "data": {
      "text/plain": [
       "(tensor([[-0.1355, -0.2142,  0.1337,  ..., -0.4177, -0.1291,  1.0000],\n",
       "         [ 0.2366, -0.0285, -0.0551,  ..., -0.0268, -0.4718,  1.0000],\n",
       "         [ 0.1945, -0.0089,  0.0135,  ..., -0.0408, -0.5287,  1.0000],\n",
       "         ...,\n",
       "         [-0.1364, -0.1582,  0.0703,  ..., -0.1382, -0.3796,  1.0000],\n",
       "         [ 0.1848, -0.0526,  0.0829,  ...,  0.0579, -0.5467,  1.0000],\n",
       "         [ 0.1889,  0.0078, -0.0184,  ...,  0.0178, -0.5397,  1.0000]]),\n",
       " tensor([1., 1., 1., 0., 1., 0., 0., 1., 1., 1., 0., 1., 1., 1., 1., 1., 1., 0.,\n",
       "         1., 0., 1., 0., 1., 0., 0., 1., 1., 1., 1., 1., 0., 1., 1., 1., 0., 1.,\n",
       "         0., 1., 1., 0., 1., 0., 1., 0., 1., 0., 0., 1., 1., 1., 1., 1., 0., 1.,\n",
       "         1., 1., 0., 1., 0., 0., 1., 0., 1., 1., 0., 1., 0., 0., 1., 0., 1., 0.,\n",
       "         1., 0., 1., 1., 1., 1., 0., 0., 0., 0., 0., 0., 1., 1., 0., 0., 0., 1.,\n",
       "         1., 1., 0., 1., 0., 0., 1., 1., 0., 1., 0., 1., 0., 1., 1., 0., 1., 1.,\n",
       "         0., 1., 1., 0., 1., 1., 1., 0., 1., 0., 1., 1., 0., 0., 0., 1., 1., 1.,\n",
       "         1., 1., 1., 0., 1., 0., 1., 1., 1., 1., 1., 1., 0., 0., 0., 1., 1., 0.,\n",
       "         1., 0., 1., 0., 1., 0., 1., 0., 0., 0., 1., 0., 1., 0., 1., 0., 0., 0.,\n",
       "         0., 1., 1., 1., 1., 1., 1., 1., 0., 1., 0., 0., 1., 1., 1., 0., 1., 0.,\n",
       "         0., 0., 0., 0., 1., 1., 1., 1., 0., 0., 1., 1., 1., 0., 0., 1., 0., 0.,\n",
       "         0., 1., 1., 0., 1., 0., 0., 0., 1., 0., 0., 1., 0., 0., 0., 0., 0., 0.,\n",
       "         1., 1., 0., 0., 1., 1., 0., 0., 1., 1., 0., 1., 1., 1., 0., 1., 0., 1.,\n",
       "         0., 1., 0., 1., 0., 1., 1., 1., 1., 0., 1., 1., 0., 1., 1., 0., 0., 0.,\n",
       "         1., 1., 1., 0., 1., 0., 0., 1., 1., 1., 1., 1., 0., 1., 1., 0., 1., 0.,\n",
       "         1., 0., 0., 1., 0., 1., 1., 0., 0., 1., 1., 0., 1., 0., 1., 1., 1., 1.,\n",
       "         1., 0., 1., 0., 1., 1., 1., 1., 1., 1., 0., 0., 0., 1., 0., 1., 0., 1.,\n",
       "         1., 1., 0., 0., 1., 1., 0., 1., 0., 1., 1., 0., 1., 1., 0., 1., 0., 0.,\n",
       "         1., 1., 1., 0., 0., 1., 1., 1., 0., 1., 1., 1., 1., 0., 1., 1., 1., 0.,\n",
       "         1., 1., 1., 0., 0., 1., 1., 1., 0., 0., 0., 1., 0., 0., 1., 0., 1., 1.,\n",
       "         1., 0., 0., 1., 0., 1., 1., 1., 1., 0., 1., 0., 1., 0., 1., 0., 0., 0.,\n",
       "         1., 1., 0., 1., 0., 1., 0., 1., 1., 0., 1., 1., 0., 0., 0., 0., 0., 0.,\n",
       "         1., 1., 0., 1.]),\n",
       " tensor([[ 0.0374, -0.1474,  0.1871,  ...,  0.3965,  0.1226,  1.0000],\n",
       "         [ 0.3132, -0.0624, -0.0585,  ..., -0.0861, -0.4071,  1.0000],\n",
       "         [ 0.0795, -0.1782, -0.0496,  ...,  0.1768, -0.5454,  1.0000],\n",
       "         ...,\n",
       "         [-0.0234, -0.0781,  0.0995,  ...,  0.0350, -0.2275,  1.0000],\n",
       "         [-0.1828,  0.1394,  0.0394,  ...,  0.0293, -0.4608,  1.0000],\n",
       "         [ 0.0532, -0.1878, -0.1251,  ...,  0.0176, -0.3791,  1.0000]]),\n",
       " tensor([0., 1., 0., 1., 0., 1., 0., 0., 1., 1., 1., 0., 1., 1., 0., 0., 0., 0.,\n",
       "         1., 1., 0., 0., 0., 0., 1., 0., 0., 1., 1., 1., 0., 0., 1., 0., 0., 1.,\n",
       "         1., 1., 1., 1., 0., 0., 1., 0., 0., 1., 0., 1., 1., 0., 0., 1., 0., 0.,\n",
       "         0., 0., 1., 0., 0., 0., 0., 1., 0., 1., 1., 1., 1., 0., 0., 0., 1., 0.,\n",
       "         1., 0., 1., 1., 1., 0., 0., 1., 1., 1., 0., 0., 1., 0., 1., 0., 0., 0.,\n",
       "         0., 0., 1., 0., 0., 0., 1., 1., 0., 0.]),\n",
       " 400,\n",
       " 11,\n",
       " <psvi.experiments.experiments_utils.SynthDataset at 0x7f6ca3add190>,\n",
       " <psvi.experiments.experiments_utils.SynthDataset at 0x7f6ca3070880>,\n",
       " 2)"
      ]
     },
     "execution_count": 9,
     "metadata": {},
     "output_type": "execute_result"
    }
   ],
   "source": [
    "read_dataset(\"phishing\", method_args)"
   ]
  },
  {
   "cell_type": "code",
   "execution_count": 7,
   "id": "a23746e8-e507-4e82-bc5e-df66041386cd",
   "metadata": {},
   "outputs": [
    {
     "ename": "AttributeError",
     "evalue": "Can't get attribute 'rec_dd' on <module '__main__'>",
     "output_type": "error",
     "traceback": [
      "\u001b[0;31m---------------------------------------------------------------------------\u001b[0m",
      "\u001b[0;31mAttributeError\u001b[0m                            Traceback (most recent call last)",
      "\u001b[0;32m/tmp/ipykernel_79/895098238.py\u001b[0m in \u001b[0;36m<cell line: 7>\u001b[0;34m()\u001b[0m\n\u001b[1;32m      5\u001b[0m \u001b[0mfull_fname\u001b[0m \u001b[0;34m=\u001b[0m \u001b[0mos\u001b[0m\u001b[0;34m.\u001b[0m\u001b[0mpath\u001b[0m\u001b[0;34m.\u001b[0m\u001b[0mjoin\u001b[0m\u001b[0;34m(\u001b[0m\u001b[0mresults_folder\u001b[0m\u001b[0;34m,\u001b[0m \u001b[0mresult_file\u001b[0m\u001b[0;34m)\u001b[0m\u001b[0;34m\u001b[0m\u001b[0;34m\u001b[0m\u001b[0m\n\u001b[1;32m      6\u001b[0m \u001b[0mcar_pickle\u001b[0m \u001b[0;34m=\u001b[0m \u001b[0mopen\u001b[0m \u001b[0;34m(\u001b[0m\u001b[0mfull_fname\u001b[0m\u001b[0;34m,\u001b[0m \u001b[0;34m\"rb\"\u001b[0m\u001b[0;34m)\u001b[0m\u001b[0;34m\u001b[0m\u001b[0;34m\u001b[0m\u001b[0m\n\u001b[0;32m----> 7\u001b[0;31m \u001b[0mcar_contents\u001b[0m \u001b[0;34m=\u001b[0m \u001b[0mpickle\u001b[0m\u001b[0;34m.\u001b[0m\u001b[0mload\u001b[0m\u001b[0;34m(\u001b[0m\u001b[0mcar_pickle\u001b[0m\u001b[0;34m)\u001b[0m\u001b[0;34m\u001b[0m\u001b[0;34m\u001b[0m\u001b[0m\n\u001b[0m",
      "\u001b[0;31mAttributeError\u001b[0m: Can't get attribute 'rec_dd' on <module '__main__'>"
     ]
    }
   ],
   "source": [
    "import os \n",
    "import pickle\n",
    "results_folder = \"/home/studio-lab-user/all_data/vi_result\"\n",
    "result_file = 'results.pk'\n",
    "full_fname = os.path.join(results_folder, result_file)\n",
    "car_pickle = open (full_fname, \"rb\")\n",
    "car_contents = pickle.load(car_pickle)\n"
   ]
  },
  {
   "cell_type": "code",
   "execution_count": null,
   "id": "09370352-2d0d-4927-a72c-6becdbb692f7",
   "metadata": {},
   "outputs": [],
   "source": []
  }
 ],
 "metadata": {
  "kernelspec": {
   "display_name": "default:Python",
   "language": "python",
   "name": "conda-env-default-py"
  },
  "language_info": {
   "codemirror_mode": {
    "name": "ipython",
    "version": 3
   },
   "file_extension": ".py",
   "mimetype": "text/x-python",
   "name": "python",
   "nbconvert_exporter": "python",
   "pygments_lexer": "ipython3",
   "version": "3.9.13"
  }
 },
 "nbformat": 4,
 "nbformat_minor": 5
}
