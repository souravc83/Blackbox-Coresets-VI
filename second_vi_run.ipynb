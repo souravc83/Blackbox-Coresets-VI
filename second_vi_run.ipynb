{
 "cells": [
  {
   "cell_type": "code",
   "execution_count": null,
   "id": "96c9551f-4f2f-4b8b-bbd0-5de4e1f355c3",
   "metadata": {},
   "outputs": [],
   "source": [
    "## use this notebook for production runs "
   ]
  },
  {
   "cell_type": "code",
   "execution_count": 1,
   "id": "81be770d-8ee4-4644-958a-647f59f8481c",
   "metadata": {},
   "outputs": [],
   "source": [
    "import os \n",
    "import sys\n",
    "sys.path.append(\"/home/studio-lab-user/Blackbox-Coresets-VI\")"
   ]
  },
  {
   "cell_type": "markdown",
   "id": "32342bb2-af3e-4041-905c-b973941f2396",
   "metadata": {},
   "source": [
    "## Run all Baselines"
   ]
  },
  {
   "cell_type": "markdown",
   "id": "c26faa6a-3372-4f2b-ab71-5cdfbe439c9b",
   "metadata": {},
   "source": [
    "### Random fixed U Alpha"
   ]
  },
  {
   "cell_type": "code",
   "execution_count": 3,
   "id": "d2953dc9-9403-4605-a9fe-bafef314910b",
   "metadata": {},
   "outputs": [
    {
     "name": "stdout",
     "output_type": "stream",
     "text": [
      "\n",
      "Reading/Generating the dataset MNIST\n",
      "^C\n",
      "Traceback (most recent call last):\n",
      "  File \"/home/studio-lab-user/Blackbox-Coresets-VI/psvi_experiments.py\", line 676, in <module>\n",
      "    (experiment_driver(\n",
      "  File \"/home/studio-lab-user/Blackbox-Coresets-VI/psvi_experiments.py\", line 437, in experiment_driver\n",
      "    x, y, xt, yt, N, D, train_dataset, test_dataset, num_classes = read_dataset(\n",
      "  File \"/home/studio-lab-user/Blackbox-Coresets-VI/psvi/experiments/experiments_utils.py\", line 826, in read_dataset\n",
      "    train_dataset, test_dataset = read_torchvision_datasets(\n",
      "  File \"/home/studio-lab-user/Blackbox-Coresets-VI/psvi/experiments/experiments_utils.py\", line 708, in read_torchvision_datasets\n",
      "    train_dataset = torchvision.datasets.MNIST(\n",
      "  File \"/home/studio-lab-user/.conda/envs/default/lib/python3.9/site-packages/torchvision/datasets/mnist.py\", line 104, in __init__\n",
      "    self.data, self.targets = self._load_data()\n",
      "  File \"/home/studio-lab-user/.conda/envs/default/lib/python3.9/site-packages/torchvision/datasets/mnist.py\", line 123, in _load_data\n",
      "    data = read_image_file(os.path.join(self.raw_folder, image_file))\n",
      "  File \"/home/studio-lab-user/.conda/envs/default/lib/python3.9/site-packages/torchvision/datasets/mnist.py\", line 544, in read_image_file\n",
      "    x = read_sn3_pascalvincent_tensor(path, strict=False)\n",
      "  File \"/home/studio-lab-user/.conda/envs/default/lib/python3.9/site-packages/torchvision/datasets/mnist.py\", line 531, in read_sn3_pascalvincent_tensor\n",
      "    return parsed.view(*s)\n",
      "KeyboardInterrupt\n"
     ]
    }
   ],
   "source": [
    "!python3 psvi_experiments.py --datasets \"MNIST\" \\\n",
    "--architecture \"lenet\" --n_hidden 100 --methods \"psvi_alpha_fixed_u\"\\\n",
    "--data_folder \"/home/studio-lab-user/all_data/vi_data\" \\\n",
    "--results_folder \"/home/studio-lab-user/all_data/vi_result\" \\\n",
    "--learn_z --data_minibatch 256 --lr0u 1e-2 --lr0v 1e-2 --lr0z 1e-2 --lr0alpha 1e-3\\\n",
    "--log_every 10 --num_epochs 20 --mc_samples 10 --inner_it 20 --lr0net 1e-3\\\n",
    "--coreset_sizes 30 50 80 100 --init_at \"subsample\" --distance_fn \"cosine\"\\\n",
    "--pretrain_epochs 5 --load_from_saved --log_pseudodata --save_new_folder\\\n",
    "--mfvi_selection_method \"kmeans\" --num_trials 3 "
   ]
  },
  {
   "cell_type": "markdown",
   "id": "01c69d0f-a7cb-4366-9488-8e2f8a6b05bc",
   "metadata": {},
   "source": [
    "### Random Evaluate"
   ]
  },
  {
   "cell_type": "code",
   "execution_count": null,
   "id": "520ff35e-3d05-4ac4-9839-3fd60ec5411b",
   "metadata": {},
   "outputs": [],
   "source": [
    "!python3 psvi_experiments.py --datasets \"MNIST\" \\\n",
    "--architecture \"lenet\" --n_hidden 100 --methods \"psvi_evaluate\"\\\n",
    "--data_folder \"/home/studio-lab-user/all_data/vi_data\" \\\n",
    "--results_folder \"/home/studio-lab-user/all_data/vi_result\" \\\n",
    "--learn_z --data_minibatch 256 --lr0u 1e-2 --lr0v 1e-2 --lr0z 1e-2 --lr0alpha 1e-3\\\n",
    "--log_every 10 --num_epochs 20 --mc_samples 10 --inner_it 20 --lr0net 1e-3\\\n",
    "--coreset_sizes 30 50 80 100 --init_at \"subsample\" --distance_fn \"cosine\"\\\n",
    "--pretrain_epochs 5 --load_from_saved --log_pseudodata --save_new_folder\\\n",
    "--mfvi_selection_method \"kmeans\" --num_trials 3 "
   ]
  },
  {
   "cell_type": "markdown",
   "id": "c8a847d0-d9b8-4324-90ea-01b0af154a05",
   "metadata": {},
   "source": [
    "### Random MFVI "
   ]
  },
  {
   "cell_type": "code",
   "execution_count": null,
   "id": "afe397cf-b74d-4759-bef0-f28f09c93dba",
   "metadata": {},
   "outputs": [],
   "source": [
    "!python3 psvi_experiments.py --datasets \"MNIST\" \\\n",
    "--architecture \"lenet\" --n_hidden 100 --methods \"mfvi_subset\"\\\n",
    "--data_folder \"/home/studio-lab-user/all_data/vi_data\" \\\n",
    "--results_folder \"/home/studio-lab-user/all_data/vi_result\" \\\n",
    "--learn_z --data_minibatch 256 --lr0u 1e-2 --lr0v 1e-2 --lr0z 1e-2 --lr0alpha 1e-3\\\n",
    "--log_every 10 --num_epochs 20 --mc_samples 10 --inner_it 20 --lr0net 1e-3\\\n",
    "--coreset_sizes 30 50 80 100 --init_at \"subsample\" --distance_fn \"cosine\"\\\n",
    "--pretrain_epochs 5 --load_from_saved --log_pseudodata --save_new_folder\\\n",
    "--mfvi_selection_method \"kmeans\" --num_trials 3 "
   ]
  },
  {
   "cell_type": "markdown",
   "id": "6ac1a825-da7f-4572-a692-5a01620e0f15",
   "metadata": {},
   "source": [
    "### Batch (Sparse) VI"
   ]
  },
  {
   "cell_type": "code",
   "execution_count": null,
   "id": "c6039b47-160e-4129-b00d-682642b5f219",
   "metadata": {},
   "outputs": [],
   "source": [
    "!python3 psvi_experiments.py --datasets \"MNIST\" \\\n",
    "--architecture \"lenet\" --n_hidden 100 --methods \"psvi_learn_v\"\\\n",
    "--data_folder \"/home/studio-lab-user/all_data/vi_data\" \\\n",
    "--results_folder \"/home/studio-lab-user/all_data/vi_result\" \\\n",
    "--learn_z --data_minibatch 256 --lr0u 1e-2 --lr0v 1e-2 --lr0z 1e-2 --lr0alpha 1e-3\\\n",
    "--log_every 10 --num_epochs 20 --mc_samples 10 --inner_it 20 --lr0net 1e-3\\\n",
    "--coreset_sizes 30 50 80 100 --init_at \"subsample\" --distance_fn \"cosine\"\\\n",
    "--pretrain_epochs 5 --load_from_saved --log_pseudodata --save_new_folder\\\n",
    "--mfvi_selection_method \"kmeans\" --num_trials 3 "
   ]
  },
  {
   "cell_type": "markdown",
   "id": "3582a271-dd4a-4cd8-9705-8c63c7179c84",
   "metadata": {},
   "source": [
    "### Kmeans"
   ]
  },
  {
   "cell_type": "code",
   "execution_count": null,
   "id": "80facd31-5741-44e4-a243-f931e901a78f",
   "metadata": {},
   "outputs": [],
   "source": [
    "!python3 psvi_experiments.py --datasets \"MNIST\" \\\n",
    "--architecture \"lenet\" --n_hidden 100 --methods \"psvi_evaluate\"\\\n",
    "--data_folder \"/home/studio-lab-user/all_data/vi_data\" \\\n",
    "--results_folder \"/home/studio-lab-user/all_data/vi_result\" \\\n",
    "--learn_z --data_minibatch 256 --lr0u 1e-2 --lr0v 1e-2 --lr0z 1e-2 --lr0alpha 1e-3\\\n",
    "--log_every 10 --num_epochs 21 --mc_samples 10 --inner_it 20 --lr0net 1e-3\\\n",
    "--coreset_sizes 30 50 80 100 --init_at \"custom\" --distance_fn \"cosine\"\\\n",
    "--pretrain_epochs 5 --load_from_saved --log_pseudodata --save_new_folder\\\n",
    "--mfvi_selection_method \"kmeans\" --num_trials 3 "
   ]
  },
  {
   "cell_type": "markdown",
   "id": "adb1bae1-73b9-4bfc-982a-2aa9f80f3196",
   "metadata": {},
   "source": [
    "### EL2N"
   ]
  },
  {
   "cell_type": "code",
   "execution_count": null,
   "id": "6973346a-77d7-4b28-8677-4d36c2c8ae67",
   "metadata": {},
   "outputs": [],
   "source": [
    "!python3 psvi_experiments.py --datasets \"MNIST\" \\\n",
    "--architecture \"lenet\" --n_hidden 100 --methods \"psvi_evaluate\"\\\n",
    "--data_folder \"/home/studio-lab-user/all_data/vi_data\" \\\n",
    "--results_folder \"/home/studio-lab-user/all_data/vi_result\" \\\n",
    "--learn_z --data_minibatch 256 --lr0u 1e-2 --lr0v 1e-2 --lr0z 1e-2 --lr0alpha 1e-3\\\n",
    "--log_every 10 --num_epochs 21 --mc_samples 10 --inner_it 20 --lr0net 1e-3\\\n",
    "--coreset_sizes 30 50 80 100 --init_at \"custom\" --distance_fn \"cosine\"\\\n",
    "--pretrain_epochs 5 --load_from_saved --log_pseudodata --save_new_folder\\\n",
    "--mfvi_selection_method \"el2n\" --num_trials 3 "
   ]
  },
  {
   "cell_type": "code",
   "execution_count": null,
   "id": "91f64262-ed47-40d7-a95e-8b353081899c",
   "metadata": {},
   "outputs": [],
   "source": []
  }
 ],
 "metadata": {
  "kernelspec": {
   "display_name": "default:Python",
   "language": "python",
   "name": "conda-env-default-py"
  },
  "language_info": {
   "codemirror_mode": {
    "name": "ipython",
    "version": 3
   },
   "file_extension": ".py",
   "mimetype": "text/x-python",
   "name": "python",
   "nbconvert_exporter": "python",
   "pygments_lexer": "ipython3",
   "version": "3.9.13"
  }
 },
 "nbformat": 4,
 "nbformat_minor": 5
}
