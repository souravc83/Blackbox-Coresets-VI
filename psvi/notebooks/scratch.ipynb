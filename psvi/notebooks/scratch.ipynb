{
 "cells": [
  {
   "cell_type": "code",
   "execution_count": 1,
   "id": "5dd6272a-aaf0-48d4-9a5e-d59ed56776c7",
   "metadata": {},
   "outputs": [
    {
     "name": "stdout",
     "output_type": "stream",
     "text": [
      "/home/studio-lab-user/Blackbox-Coresets-VI/psvi/notebooks\n"
     ]
    }
   ],
   "source": [
    "!pwd"
   ]
  },
  {
   "cell_type": "code",
   "execution_count": 2,
   "id": "813cb4e1-baa7-45fd-b2fb-fa6e211de97e",
   "metadata": {},
   "outputs": [],
   "source": [
    "%load_ext autoreload\n",
    "%autoreload 2\n"
   ]
  },
  {
   "cell_type": "code",
   "execution_count": 3,
   "id": "1ceb1598-ad62-4b97-b5ea-173ec09cf280",
   "metadata": {},
   "outputs": [],
   "source": [
    "import os \n",
    "import sys\n",
    "sys.path.append(\"/home/studio-lab-user/Blackbox-Coresets-VI\")"
   ]
  },
  {
   "cell_type": "code",
   "execution_count": 4,
   "id": "ad1a35e5-7362-4e56-9afc-48e977928850",
   "metadata": {},
   "outputs": [],
   "source": [
    "method_args = {\n",
    "    'data_folder': '/home/studio-lab-user/all_data/vi_data',\n",
    "    'test_ratio': 0.2\n",
    "}"
   ]
  },
  {
   "cell_type": "code",
   "execution_count": 5,
   "id": "ee8ed38b-00a4-4d33-a170-4effd0aea97a",
   "metadata": {},
   "outputs": [],
   "source": [
    "from psvi.experiments.experiments_utils import read_dataset\n",
    "from psvi.models.frequentist_models import FreqLogReg, FreqOneLayer\n",
    "from torch.utils.data import DataLoader\n",
    "from psvi.models.frequentist_models import RunFrequentistModel\n",
    "from psvi.inference.baselines import run_el2n_coreset\n",
    "\n",
    "\n",
    "import torch\n",
    "import torch.optim as optim\n",
    "import torch.distributions as dist\n",
    "import torch.nn.functional as F\n",
    "\n"
   ]
  },
  {
   "cell_type": "code",
   "execution_count": 6,
   "id": "92e7cfe5-13fd-497b-9dbc-4187a448f759",
   "metadata": {},
   "outputs": [
    {
     "name": "stdout",
     "output_type": "stream",
     "text": [
      "X is either low-dimensional or not very sparse, so converting to a numpy array\n",
      "X is either low-dimensional or not very sparse, so converting to a numpy array\n"
     ]
    }
   ],
   "source": [
    "x, y, xt, yt, N, D, \\\n",
    "train_dataset, test_dataset, num_classes = read_dataset(\"webspam\", method_args)"
   ]
  },
  {
   "cell_type": "code",
   "execution_count": 7,
   "id": "bb6c8042-ad88-4b26-be11-23b3edd67b87",
   "metadata": {},
   "outputs": [
    {
     "data": {
      "text/plain": [
       "<psvi.experiments.experiments_utils.SynthDataset at 0x7fc265dd5d00>"
      ]
     },
     "execution_count": 7,
     "metadata": {},
     "output_type": "execute_result"
    }
   ],
   "source": [
    "train_dataset"
   ]
  },
  {
   "cell_type": "code",
   "execution_count": 9,
   "id": "ebfa30be-a8a6-44da-9b8f-9dcf27b8cf2b",
   "metadata": {},
   "outputs": [],
   "source": [
    "#criterion = torch.nn.CrossEntropyLoss()\n",
    "criterion = torch.nn.BCEWithLogitsLoss()\n",
    "model = FreqLogReg(input_dim=D, num_classes=num_classes)\n",
    "optimizer = optim.SGD(model.parameters(), lr=1e-3)\n"
   ]
  },
  {
   "cell_type": "code",
   "execution_count": 10,
   "id": "e3685db9-8c9c-4cad-9fde-0e1f50193a9b",
   "metadata": {},
   "outputs": [],
   "source": [
    "train_dataloader = DataLoader(train_dataset, batch_size=64, shuffle=True)"
   ]
  },
  {
   "cell_type": "code",
   "execution_count": 11,
   "id": "4efd1b33-a941-4c9a-abff-d9458ec8e599",
   "metadata": {},
   "outputs": [],
   "source": [
    "# train an epoch\n",
    "for batch_idx, (data, target) in enumerate(train_dataloader):\n",
    "    #if args['cuda']:\n",
    "        #data, target = data.cuda(), target.cuda()\n",
    "    #Variables in Pytorch are differenciable. \n",
    "    #data, target = Variable(data), Variable(target)\n",
    "    #This will zero out the gradients for this batch. \n",
    "    optimizer.zero_grad()\n",
    "    output = model(data)\n",
    "    # Calculate the loss The negative log likelihood loss. It is useful to train a classification problem with C classes.\n",
    "    loss = criterion(output.squeeze(), target)\n",
    "    #dloss/dx for every Variable \n",
    "    loss.backward()\n",
    "    #to do a one-step update on our parameter.\n",
    "    optimizer.step()\n"
   ]
  },
  {
   "cell_type": "code",
   "execution_count": 34,
   "id": "a4a878d1-d899-4488-b2b4-65db9e3a29ef",
   "metadata": {},
   "outputs": [
    {
     "data": {
      "text/plain": [
       "tensor([1, 1, 1, 0, 1, 0, 1, 0, 1, 1, 1, 0, 0, 0, 1, 1, 0, 0, 1, 0, 1, 1, 1, 0,\n",
       "        1, 1, 1, 1, 0, 0, 0, 0, 1, 1, 0, 1, 1, 1, 1, 0, 1])"
      ]
     },
     "execution_count": 34,
     "metadata": {},
     "output_type": "execute_result"
    }
   ],
   "source": [
    "target.long()"
   ]
  },
  {
   "cell_type": "code",
   "execution_count": 14,
   "id": "632d1d26-c5ad-429f-b2e2-a4805682c95e",
   "metadata": {},
   "outputs": [
    {
     "data": {
      "text/plain": [
       "torch.Size([41, 2])"
      ]
     },
     "execution_count": 14,
     "metadata": {},
     "output_type": "execute_result"
    }
   ],
   "source": [
    "output.size()"
   ]
  },
  {
   "cell_type": "code",
   "execution_count": 15,
   "id": "db4bec59-854a-4a01-b052-ff72736a8f4e",
   "metadata": {},
   "outputs": [
    {
     "data": {
      "text/plain": [
       "torch.Size([41])"
      ]
     },
     "execution_count": 15,
     "metadata": {},
     "output_type": "execute_result"
    }
   ],
   "source": [
    "target.size()"
   ]
  },
  {
   "cell_type": "code",
   "execution_count": 34,
   "id": "56c57257-5751-44d6-8e35-cee9eef4f838",
   "metadata": {},
   "outputs": [],
   "source": [
    "softmax_fn = torch.nn.Softmax()\n",
    "sigmoid_fn = torch.nn.Sigmoid()\n",
    "#outputs_prob = softmax_fn(output.squeeze())\n",
    "#outputs_prob"
   ]
  },
  {
   "cell_type": "code",
   "execution_count": 38,
   "id": "5f6c1aad-c9f6-4feb-8518-130fbc1eb00d",
   "metadata": {},
   "outputs": [
    {
     "name": "stderr",
     "output_type": "stream",
     "text": [
      "/tmp/ipykernel_126/2327056272.py:1: UserWarning: Implicit dimension choice for softmax has been deprecated. Change the call to include dim=X as an argument.\n",
      "  softmax_fn(torch.tensor(-300.0))\n"
     ]
    },
    {
     "data": {
      "text/plain": [
       "tensor(0.7311)"
      ]
     },
     "execution_count": 38,
     "metadata": {},
     "output_type": "execute_result"
    }
   ],
   "source": [
    "softmax_fn(torch.tensor(-300.0))\n",
    "sigmoid_fn(torch.tensor(1))"
   ]
  },
  {
   "cell_type": "code",
   "execution_count": 32,
   "id": "e7974943-23a0-408d-a3e3-27a7058fe65f",
   "metadata": {},
   "outputs": [
    {
     "data": {
      "text/plain": [
       "torch.Size([41, 1])"
      ]
     },
     "execution_count": 32,
     "metadata": {},
     "output_type": "execute_result"
    }
   ],
   "source": [
    "outputs_prob.unsqueeze(1).size()"
   ]
  },
  {
   "cell_type": "code",
   "execution_count": 23,
   "id": "a035b93b-baa7-4f7f-9eae-022a82a4b455",
   "metadata": {},
   "outputs": [],
   "source": [
    "outputs_prob_0 = 1. - outputs_prob"
   ]
  },
  {
   "cell_type": "code",
   "execution_count": 33,
   "id": "f12eac74-db2f-429d-a49d-418c4b9e360a",
   "metadata": {},
   "outputs": [
    {
     "data": {
      "text/plain": [
       "torch.Size([41, 2])"
      ]
     },
     "execution_count": 33,
     "metadata": {},
     "output_type": "execute_result"
    }
   ],
   "source": [
    "torch.hstack((outputs_prob.unsqueeze(1), outputs_prob_0.unsqueeze(1))).size()"
   ]
  },
  {
   "cell_type": "code",
   "execution_count": 27,
   "id": "28b4ce1f-03c7-47b6-b670-5023c58f0bf3",
   "metadata": {},
   "outputs": [],
   "source": [
    "_, predicted = torch.max(output.data, 1)"
   ]
  },
  {
   "cell_type": "code",
   "execution_count": 29,
   "id": "c0312e84-3bea-4137-9bd9-9f5036d4af60",
   "metadata": {},
   "outputs": [
    {
     "data": {
      "text/plain": [
       "26"
      ]
     },
     "execution_count": 29,
     "metadata": {},
     "output_type": "execute_result"
    }
   ],
   "source": [
    "(predicted == target.long()).sum().item()"
   ]
  },
  {
   "cell_type": "code",
   "execution_count": 18,
   "id": "63047d14-8747-4cac-aca1-ab20fc769d81",
   "metadata": {},
   "outputs": [
    {
     "data": {
      "text/plain": [
       "tensor(24)"
      ]
     },
     "execution_count": 18,
     "metadata": {},
     "output_type": "execute_result"
    }
   ],
   "source": [
    "output.squeeze().gt(0.5).float().eq(target).sum()"
   ]
  },
  {
   "cell_type": "code",
   "execution_count": 20,
   "id": "6acaf307-7241-47fa-8185-7a18c62b1550",
   "metadata": {},
   "outputs": [
    {
     "data": {
      "text/plain": [
       "tensor(-92.8361, grad_fn=<SumBackward0>)"
      ]
     },
     "execution_count": 20,
     "metadata": {},
     "output_type": "execute_result"
    }
   ],
   "source": [
    "dist.Bernoulli(probs=outputs_prob).log_prob(target).sum()"
   ]
  },
  {
   "cell_type": "code",
   "execution_count": 55,
   "id": "82e3a7da-d69b-4765-ab1c-31323526f70b",
   "metadata": {},
   "outputs": [
    {
     "data": {
      "text/plain": [
       "41"
      ]
     },
     "execution_count": 55,
     "metadata": {},
     "output_type": "execute_result"
    }
   ],
   "source": [
    "target.size(0)"
   ]
  },
  {
   "cell_type": "code",
   "execution_count": 10,
   "id": "8f315d46-39fd-419c-948c-a347c57c493d",
   "metadata": {},
   "outputs": [
    {
     "ename": "ValueError",
     "evalue": "Using a target size (torch.Size([])) that is different to the input size (torch.Size([1])) is deprecated. Please ensure they have the same size.",
     "output_type": "error",
     "traceback": [
      "\u001b[0;31m---------------------------------------------------------------------------\u001b[0m",
      "\u001b[0;31mValueError\u001b[0m                                Traceback (most recent call last)",
      "\u001b[0;32m/tmp/ipykernel_81/3203720301.py\u001b[0m in \u001b[0;36m<cell line: 1>\u001b[0;34m()\u001b[0m\n\u001b[0;32m----> 1\u001b[0;31m \u001b[0mcriterion\u001b[0m\u001b[0;34m(\u001b[0m\u001b[0moutput\u001b[0m\u001b[0;34m,\u001b[0m \u001b[0mtorch\u001b[0m\u001b[0;34m.\u001b[0m\u001b[0mtensor\u001b[0m\u001b[0;34m(\u001b[0m\u001b[0;36m1\u001b[0m\u001b[0;34m)\u001b[0m\u001b[0;34m)\u001b[0m\u001b[0;34m\u001b[0m\u001b[0;34m\u001b[0m\u001b[0m\n\u001b[0m",
      "\u001b[0;32m~/.conda/envs/default/lib/python3.9/site-packages/torch/nn/modules/module.py\u001b[0m in \u001b[0;36m_call_impl\u001b[0;34m(self, *input, **kwargs)\u001b[0m\n\u001b[1;32m   1128\u001b[0m         if not (self._backward_hooks or self._forward_hooks or self._forward_pre_hooks or _global_backward_hooks\n\u001b[1;32m   1129\u001b[0m                 or _global_forward_hooks or _global_forward_pre_hooks):\n\u001b[0;32m-> 1130\u001b[0;31m             \u001b[0;32mreturn\u001b[0m \u001b[0mforward_call\u001b[0m\u001b[0;34m(\u001b[0m\u001b[0;34m*\u001b[0m\u001b[0minput\u001b[0m\u001b[0;34m,\u001b[0m \u001b[0;34m**\u001b[0m\u001b[0mkwargs\u001b[0m\u001b[0;34m)\u001b[0m\u001b[0;34m\u001b[0m\u001b[0;34m\u001b[0m\u001b[0m\n\u001b[0m\u001b[1;32m   1131\u001b[0m         \u001b[0;31m# Do not call functions when jit is used\u001b[0m\u001b[0;34m\u001b[0m\u001b[0;34m\u001b[0m\u001b[0m\n\u001b[1;32m   1132\u001b[0m         \u001b[0mfull_backward_hooks\u001b[0m\u001b[0;34m,\u001b[0m \u001b[0mnon_full_backward_hooks\u001b[0m \u001b[0;34m=\u001b[0m \u001b[0;34m[\u001b[0m\u001b[0;34m]\u001b[0m\u001b[0;34m,\u001b[0m \u001b[0;34m[\u001b[0m\u001b[0;34m]\u001b[0m\u001b[0;34m\u001b[0m\u001b[0;34m\u001b[0m\u001b[0m\n",
      "\u001b[0;32m~/.conda/envs/default/lib/python3.9/site-packages/torch/nn/modules/loss.py\u001b[0m in \u001b[0;36mforward\u001b[0;34m(self, input, target)\u001b[0m\n\u001b[1;32m    611\u001b[0m \u001b[0;34m\u001b[0m\u001b[0m\n\u001b[1;32m    612\u001b[0m     \u001b[0;32mdef\u001b[0m \u001b[0mforward\u001b[0m\u001b[0;34m(\u001b[0m\u001b[0mself\u001b[0m\u001b[0;34m,\u001b[0m \u001b[0minput\u001b[0m\u001b[0;34m:\u001b[0m \u001b[0mTensor\u001b[0m\u001b[0;34m,\u001b[0m \u001b[0mtarget\u001b[0m\u001b[0;34m:\u001b[0m \u001b[0mTensor\u001b[0m\u001b[0;34m)\u001b[0m \u001b[0;34m->\u001b[0m \u001b[0mTensor\u001b[0m\u001b[0;34m:\u001b[0m\u001b[0;34m\u001b[0m\u001b[0;34m\u001b[0m\u001b[0m\n\u001b[0;32m--> 613\u001b[0;31m         \u001b[0;32mreturn\u001b[0m \u001b[0mF\u001b[0m\u001b[0;34m.\u001b[0m\u001b[0mbinary_cross_entropy\u001b[0m\u001b[0;34m(\u001b[0m\u001b[0minput\u001b[0m\u001b[0;34m,\u001b[0m \u001b[0mtarget\u001b[0m\u001b[0;34m,\u001b[0m \u001b[0mweight\u001b[0m\u001b[0;34m=\u001b[0m\u001b[0mself\u001b[0m\u001b[0;34m.\u001b[0m\u001b[0mweight\u001b[0m\u001b[0;34m,\u001b[0m \u001b[0mreduction\u001b[0m\u001b[0;34m=\u001b[0m\u001b[0mself\u001b[0m\u001b[0;34m.\u001b[0m\u001b[0mreduction\u001b[0m\u001b[0;34m)\u001b[0m\u001b[0;34m\u001b[0m\u001b[0;34m\u001b[0m\u001b[0m\n\u001b[0m\u001b[1;32m    614\u001b[0m \u001b[0;34m\u001b[0m\u001b[0m\n\u001b[1;32m    615\u001b[0m \u001b[0;34m\u001b[0m\u001b[0m\n",
      "\u001b[0;32m~/.conda/envs/default/lib/python3.9/site-packages/torch/nn/functional.py\u001b[0m in \u001b[0;36mbinary_cross_entropy\u001b[0;34m(input, target, weight, size_average, reduce, reduction)\u001b[0m\n\u001b[1;32m   3072\u001b[0m         \u001b[0mreduction_enum\u001b[0m \u001b[0;34m=\u001b[0m \u001b[0m_Reduction\u001b[0m\u001b[0;34m.\u001b[0m\u001b[0mget_enum\u001b[0m\u001b[0;34m(\u001b[0m\u001b[0mreduction\u001b[0m\u001b[0;34m)\u001b[0m\u001b[0;34m\u001b[0m\u001b[0;34m\u001b[0m\u001b[0m\n\u001b[1;32m   3073\u001b[0m     \u001b[0;32mif\u001b[0m \u001b[0mtarget\u001b[0m\u001b[0;34m.\u001b[0m\u001b[0msize\u001b[0m\u001b[0;34m(\u001b[0m\u001b[0;34m)\u001b[0m \u001b[0;34m!=\u001b[0m \u001b[0minput\u001b[0m\u001b[0;34m.\u001b[0m\u001b[0msize\u001b[0m\u001b[0;34m(\u001b[0m\u001b[0;34m)\u001b[0m\u001b[0;34m:\u001b[0m\u001b[0;34m\u001b[0m\u001b[0;34m\u001b[0m\u001b[0m\n\u001b[0;32m-> 3074\u001b[0;31m         raise ValueError(\n\u001b[0m\u001b[1;32m   3075\u001b[0m             \u001b[0;34m\"Using a target size ({}) that is different to the input size ({}) is deprecated. \"\u001b[0m\u001b[0;34m\u001b[0m\u001b[0;34m\u001b[0m\u001b[0m\n\u001b[1;32m   3076\u001b[0m             \u001b[0;34m\"Please ensure they have the same size.\"\u001b[0m\u001b[0;34m.\u001b[0m\u001b[0mformat\u001b[0m\u001b[0;34m(\u001b[0m\u001b[0mtarget\u001b[0m\u001b[0;34m.\u001b[0m\u001b[0msize\u001b[0m\u001b[0;34m(\u001b[0m\u001b[0;34m)\u001b[0m\u001b[0;34m,\u001b[0m \u001b[0minput\u001b[0m\u001b[0;34m.\u001b[0m\u001b[0msize\u001b[0m\u001b[0;34m(\u001b[0m\u001b[0;34m)\u001b[0m\u001b[0;34m)\u001b[0m\u001b[0;34m\u001b[0m\u001b[0;34m\u001b[0m\u001b[0m\n",
      "\u001b[0;31mValueError\u001b[0m: Using a target size (torch.Size([])) that is different to the input size (torch.Size([1])) is deprecated. Please ensure they have the same size."
     ]
    }
   ],
   "source": [
    "criterion(output, torch.tensor(1))"
   ]
  },
  {
   "cell_type": "code",
   "execution_count": 19,
   "id": "a7ee2a4b-1d84-4c58-b237-8bcbc2fda2c3",
   "metadata": {},
   "outputs": [
    {
     "data": {
      "text/plain": [
       "torch.Size([1])"
      ]
     },
     "execution_count": 19,
     "metadata": {},
     "output_type": "execute_result"
    }
   ],
   "source": [
    "torch.tensor(1).unsqueeze(0).size()"
   ]
  },
  {
   "cell_type": "code",
   "execution_count": 37,
   "id": "ae3ed888-124e-46bd-b053-b8c323958d91",
   "metadata": {},
   "outputs": [],
   "source": [
    "#F.one_hot(target.long(), num_classes=2)\n"
   ]
  },
  {
   "cell_type": "code",
   "execution_count": 16,
   "id": "2ab88eda-25f4-401a-9f65-94a7c4e29b5e",
   "metadata": {},
   "outputs": [
    {
     "name": "stdout",
     "output_type": "stream",
     "text": [
      "X is either low-dimensional or not very sparse, so converting to a numpy array\n",
      "X is either low-dimensional or not very sparse, so converting to a numpy array\n"
     ]
    }
   ],
   "source": [
    "x, y, xt, yt, N, D, \\\n",
    "train_dataset, test_dataset, num_classes = read_dataset(\"webspam\", method_args)\n"
   ]
  },
  {
   "cell_type": "code",
   "execution_count": 7,
   "id": "7627143d-dd20-4d07-86d4-0614a515223d",
   "metadata": {},
   "outputs": [
    {
     "data": {
      "text/plain": [
       "126185"
      ]
     },
     "execution_count": 7,
     "metadata": {},
     "output_type": "execute_result"
    }
   ],
   "source": [
    "len(train_dataset)"
   ]
  },
  {
   "cell_type": "code",
   "execution_count": 23,
   "id": "91a13f86-97c3-4f9c-861a-c14c1a11fa92",
   "metadata": {},
   "outputs": [],
   "source": [
    "model = FreqLogReg(input_dim=D, num_classes=num_classes)"
   ]
  },
  {
   "cell_type": "code",
   "execution_count": 39,
   "id": "78b02632-0812-4c25-9a25-54a3ca7d2817",
   "metadata": {},
   "outputs": [
    {
     "name": "stdout",
     "output_type": "stream",
     "text": [
      "Epoch: 0\n",
      "Accuracy: 0.7437289357185364, NLL: 0.5029181241989136\n",
      "Epoch: 10\n",
      "Accuracy: 0.7688131928443909, NLL: 0.481990247964859\n"
     ]
    }
   ],
   "source": [
    "run_freq = RunFrequentistModel(\n",
    "    train_dataset=train_dataset, test_dataset=test_dataset, model=model, \n",
    "    is_logreg=True, num_epochs=20\n",
    ")\n",
    "\n",
    "run_freq.train()"
   ]
  },
  {
   "cell_type": "code",
   "execution_count": 40,
   "id": "d4241d2a-7cc4-4a0f-a122-9c1e0447afef",
   "metadata": {},
   "outputs": [],
   "source": [
    "#for param in model.parameters():\n",
    "#  print(param.data)\n"
   ]
  },
  {
   "cell_type": "code",
   "execution_count": 41,
   "id": "d8c5c446-5265-49df-8877-d7dd8a2a4336",
   "metadata": {},
   "outputs": [],
   "source": [
    "el2n_scores = run_freq.get_el2n_scores()"
   ]
  },
  {
   "cell_type": "code",
   "execution_count": 42,
   "id": "c88f5a35-7eb4-4102-b812-33ea188f4173",
   "metadata": {},
   "outputs": [
    {
     "data": {
      "text/plain": [
       "[46691, 519, 82201, 119540, 16419, 72864, 116814, 84964, 98355, 51911]"
      ]
     },
     "execution_count": 42,
     "metadata": {},
     "output_type": "execute_result"
    }
   ],
   "source": [
    "run_freq.get_largest_el2n_indices(10)"
   ]
  },
  {
   "cell_type": "code",
   "execution_count": 43,
   "id": "a18729cf-efaf-4f44-8900-8f49e6d1d9ff",
   "metadata": {},
   "outputs": [
    {
     "data": {
      "text/plain": [
       "tensor([0.8149, 0.8843, 0.5626, 0.2827, 0.4713, 0.3625, 0.2463, 0.2712, 0.5595,\n",
       "        0.3034, 0.3195, 0.2402, 0.2956, 0.8847, 0.3406, 0.4722, 0.5980, 0.3927,\n",
       "        0.1587, 0.3212])"
      ]
     },
     "execution_count": 43,
     "metadata": {},
     "output_type": "execute_result"
    }
   ],
   "source": [
    "el2n_scores[0:20]"
   ]
  },
  {
   "cell_type": "code",
   "execution_count": 7,
   "id": "08fc4686-d3f8-495b-979b-665254ce08b7",
   "metadata": {},
   "outputs": [
    {
     "name": "stdout",
     "output_type": "stream",
     "text": [
      "Epoch: 0\n",
      "Accuracy: 0.6068795919418335, NLL: 0.6582239866256714\n",
      "Epoch: 10\n",
      "Accuracy: 0.641906201839447, NLL: 0.5972860455513\n"
     ]
    },
    {
     "name": "stderr",
     "output_type": "stream",
     "text": [
      "  3%|▎         | 1/30 [00:03<01:33,  3.22s/it]"
     ]
    },
    {
     "name": "stdout",
     "output_type": "stream",
     "text": [
      "predictive accuracy: 60.70%\n"
     ]
    },
    {
     "name": "stderr",
     "output_type": "stream",
     "text": [
      " 37%|███▋      | 11/30 [00:06<00:10,  1.85it/s]"
     ]
    },
    {
     "name": "stdout",
     "output_type": "stream",
     "text": [
      "predictive accuracy: 60.67%\n"
     ]
    },
    {
     "name": "stderr",
     "output_type": "stream",
     "text": [
      "100%|██████████| 30/30 [00:09<00:00,  3.03it/s]"
     ]
    },
    {
     "name": "stdout",
     "output_type": "stream",
     "text": [
      "predictive accuracy: 35.96%\n"
     ]
    },
    {
     "name": "stderr",
     "output_type": "stream",
     "text": [
      "\n"
     ]
    },
    {
     "data": {
      "text/plain": [
       "{'accs': [0.6069939136505127, 0.6066510677337646, 0.3595794439315796],\n",
       " 'nlls': [0.7019806504249573, 0.8734530806541443, 1.7704914808273315],\n",
       " 'csizes': [0, 10, 20],\n",
       " 'times': [],\n",
       " 'wt_index': [{},\n",
       "  {41186: 12618.5,\n",
       "   119540: 12618.5,\n",
       "   72864: 12618.5,\n",
       "   1534: 12618.5,\n",
       "   98355: 12618.5,\n",
       "   60817: 12618.5,\n",
       "   46691: 12618.5,\n",
       "   119029: 12618.5,\n",
       "   45438: 12618.5,\n",
       "   63387: 12618.5},\n",
       "  {41186: 6309.25,\n",
       "   119540: 6309.25,\n",
       "   72864: 6309.25,\n",
       "   1534: 6309.25,\n",
       "   98355: 6309.25,\n",
       "   60817: 6309.25,\n",
       "   46691: 6309.25,\n",
       "   119029: 6309.25,\n",
       "   45438: 6309.25,\n",
       "   63387: 6309.25,\n",
       "   18205: 6309.25,\n",
       "   118535: 6309.25,\n",
       "   58446: 6309.25,\n",
       "   50390: 6309.25,\n",
       "   107960: 6309.25,\n",
       "   99605: 6309.25,\n",
       "   8913: 6309.25,\n",
       "   96515: 6309.25,\n",
       "   43456: 6309.25,\n",
       "   87349: 6309.25}]}"
      ]
     },
     "execution_count": 7,
     "metadata": {},
     "output_type": "execute_result"
    }
   ],
   "source": [
    "run_el2n_coreset(\n",
    "    x=x,\n",
    "    y=y,\n",
    "    xt=xt,\n",
    "    yt=yt,\n",
    "    mc_samples=4,\n",
    "    num_epochs=30,\n",
    "    train_dataset=train_dataset,\n",
    "    test_dataset=test_dataset,\n",
    "    log_every=10,\n",
    "    N=N,\n",
    "    D=D,\n",
    "    seed=0,\n",
    "    mcmc=False,\n",
    "    lr0net=1e-3,  # initial learning rate for optimizer\n",
    "    nc=num_classes,\n",
    "    data_minibatch=128,\n",
    ") "
   ]
  },
  {
   "cell_type": "code",
   "execution_count": null,
   "id": "f4cd9dee-d162-4df8-a649-ce65af853b9d",
   "metadata": {},
   "outputs": [],
   "source": []
  },
  {
   "cell_type": "code",
   "execution_count": null,
   "id": "88aac8f4-e684-4ec0-9fb0-116203717f82",
   "metadata": {},
   "outputs": [],
   "source": []
  }
 ],
 "metadata": {
  "kernelspec": {
   "display_name": "default:Python",
   "language": "python",
   "name": "conda-env-default-py"
  },
  "language_info": {
   "codemirror_mode": {
    "name": "ipython",
    "version": 3
   },
   "file_extension": ".py",
   "mimetype": "text/x-python",
   "name": "python",
   "nbconvert_exporter": "python",
   "pygments_lexer": "ipython3",
   "version": "3.9.13"
  }
 },
 "nbformat": 4,
 "nbformat_minor": 5
}
